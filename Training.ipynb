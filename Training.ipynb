{
 "cells": [
  {
   "cell_type": "code",
   "id": "initial_id",
   "metadata": {
    "collapsed": true,
    "ExecuteTime": {
     "end_time": "2024-07-11T23:42:17.574470Z",
     "start_time": "2024-07-11T23:42:16.560470Z"
    }
   },
   "source": [
    "import keras\n",
    "import numpy as np\n",
    "import matplotlib.pyplot as plt\n",
    "import tensorflow as tf\n",
    "import pandas as pd\n",
    "from sklearn.model_selection import train_test_split\n",
    "from tensorflow.keras.optimizers import Adam\n",
    "from tensorflow.keras.losses import SparseCategoricalCrossentropy\n",
    "from tensorflow.keras.layers import InputLayer"
   ],
   "outputs": [],
   "execution_count": 3
  },
  {
   "metadata": {
    "ExecuteTime": {
     "end_time": "2024-07-11T23:42:19.790656Z",
     "start_time": "2024-07-11T23:42:19.620660Z"
    }
   },
   "cell_type": "code",
   "source": [
    "mnist = tf.keras.datasets.mnist\n",
    "\n",
    "(MNx_train, MNy_train), (MNx_test, MNy_test) = mnist.load_data()\n",
    "\n",
    "MNx_train = MNx_train.reshape(MNx_train.shape[0], -1)\n",
    "MNx_test = MNx_test.reshape(MNx_test.shape[0], -1)"
   ],
   "id": "9ca2000bde6da1fd",
   "outputs": [],
   "execution_count": 4
  },
  {
   "metadata": {},
   "cell_type": "markdown",
   "source": "Make sure to replace the following path with wherever you place the A_Z Handwritten data from https://www.kaggle.com/datasets/sachinpatel21/az-handwritten-alphabets-in-csv-format/data",
   "id": "d18c50e3e5953a4f"
  },
  {
   "metadata": {
    "ExecuteTime": {
     "end_time": "2024-07-11T23:42:34.288656Z",
     "start_time": "2024-07-11T23:42:22.301659Z"
    }
   },
   "cell_type": "code",
   "source": [
    "data = pd.read_csv('D:/Pycharm Projects/A_Z Handwritten Data/A_Z Handwritten Data.csv')\n",
    "\n",
    "data.columns = ['label'] + [f'pixel_{i}' for i in range(784)]\n",
    "x = data.drop('label', axis=1)\n",
    "y = data['label']\n",
    "\n",
    "AZx_train, AZx_test, AZy_train, AZy_test = train_test_split(x, y, test_size=0.2)"
   ],
   "id": "b9c33d0edd789e9c",
   "outputs": [],
   "execution_count": 5
  },
  {
   "metadata": {
    "ExecuteTime": {
     "end_time": "2024-07-11T23:42:42.629237Z",
     "start_time": "2024-07-11T23:42:42.508239Z"
    }
   },
   "cell_type": "code",
   "source": [
    "for x,y in AZy_train.items():\n",
    "    y += 10\n",
    "for _,y in AZy_test.items():\n",
    "    y += 10"
   ],
   "id": "89e756acf972a550",
   "outputs": [],
   "execution_count": 6
  },
  {
   "metadata": {
    "ExecuteTime": {
     "end_time": "2024-07-11T23:42:45.165237Z",
     "start_time": "2024-07-11T23:42:43.292237Z"
    }
   },
   "cell_type": "code",
   "source": [
    "MNx_train = tf.keras.utils.normalize(MNx_train, axis=1)\n",
    "MNx_test = tf.keras.utils.normalize(MNx_test, axis=1)\n",
    "\n",
    "AZx_train = tf.keras.utils.normalize(AZx_train, axis=1)\n",
    "AZX_test = tf.keras.utils.normalize(AZx_test, axis=1)"
   ],
   "id": "1b9ac50063038a90",
   "outputs": [],
   "execution_count": 7
  },
  {
   "metadata": {
    "ExecuteTime": {
     "end_time": "2024-07-11T23:42:47.217609Z",
     "start_time": "2024-07-11T23:42:46.878609Z"
    }
   },
   "cell_type": "code",
   "source": [
    "TrainingData = tf.concat([MNx_train, AZx_train], axis=0)\n",
    "TrainingLabels = tf.concat([MNy_train, AZy_train], axis=0)\n",
    "TestData = tf.concat([MNx_test, AZx_test], axis=0)\n",
    "TestLabels = tf.concat([MNy_test, AZy_test], axis=0)"
   ],
   "id": "bfac4ef7f24cacfc",
   "outputs": [],
   "execution_count": 8
  },
  {
   "metadata": {
    "ExecuteTime": {
     "end_time": "2024-07-11T23:42:48.588291Z",
     "start_time": "2024-07-11T23:42:48.528292Z"
    }
   },
   "cell_type": "code",
   "source": [
    "model = tf.keras.models.Sequential()\n",
    "model.add(tf.keras.layers.InputLayer(shape=(AZx_train.shape[1],)))\n",
    "    # model.add(tf.keras.layers.Flatten(input_shape=(28, 28)))\n",
    "model.add(tf.keras.layers.Dense(128, activation='relu'))\n",
    "model.add(tf.keras.layers.Dense(64, activation='relu'))\n",
    "model.add(tf.keras.layers.Dense(36, activation='softmax'))\n",
    "\n",
    "model.compile(optimizer=Adam(learning_rate = 0.0001), loss='sparse_categorical_crossentropy', metrics=['accuracy'])\n",
    "\n",
    "print(model.summary())"
   ],
   "id": "1c4dfea6e8ba5f5f",
   "outputs": [
    {
     "data": {
      "text/plain": [
       "\u001B[1mModel: \"sequential\"\u001B[0m\n"
      ],
      "text/html": [
       "<pre style=\"white-space:pre;overflow-x:auto;line-height:normal;font-family:Menlo,'DejaVu Sans Mono',consolas,'Courier New',monospace\"><span style=\"font-weight: bold\">Model: \"sequential\"</span>\n",
       "</pre>\n"
      ]
     },
     "metadata": {},
     "output_type": "display_data"
    },
    {
     "data": {
      "text/plain": [
       "┏━━━━━━━━━━━━━━━━━━━━━━━━━━━━━━━━━┳━━━━━━━━━━━━━━━━━━━━━━━━┳━━━━━━━━━━━━━━━┓\n",
       "┃\u001B[1m \u001B[0m\u001B[1mLayer (type)                   \u001B[0m\u001B[1m \u001B[0m┃\u001B[1m \u001B[0m\u001B[1mOutput Shape          \u001B[0m\u001B[1m \u001B[0m┃\u001B[1m \u001B[0m\u001B[1m      Param #\u001B[0m\u001B[1m \u001B[0m┃\n",
       "┡━━━━━━━━━━━━━━━━━━━━━━━━━━━━━━━━━╇━━━━━━━━━━━━━━━━━━━━━━━━╇━━━━━━━━━━━━━━━┩\n",
       "│ dense (\u001B[38;5;33mDense\u001B[0m)                   │ (\u001B[38;5;45mNone\u001B[0m, \u001B[38;5;34m128\u001B[0m)            │       \u001B[38;5;34m100,480\u001B[0m │\n",
       "├─────────────────────────────────┼────────────────────────┼───────────────┤\n",
       "│ dense_1 (\u001B[38;5;33mDense\u001B[0m)                 │ (\u001B[38;5;45mNone\u001B[0m, \u001B[38;5;34m64\u001B[0m)             │         \u001B[38;5;34m8,256\u001B[0m │\n",
       "├─────────────────────────────────┼────────────────────────┼───────────────┤\n",
       "│ dense_2 (\u001B[38;5;33mDense\u001B[0m)                 │ (\u001B[38;5;45mNone\u001B[0m, \u001B[38;5;34m36\u001B[0m)             │         \u001B[38;5;34m2,340\u001B[0m │\n",
       "└─────────────────────────────────┴────────────────────────┴───────────────┘\n"
      ],
      "text/html": [
       "<pre style=\"white-space:pre;overflow-x:auto;line-height:normal;font-family:Menlo,'DejaVu Sans Mono',consolas,'Courier New',monospace\">┏━━━━━━━━━━━━━━━━━━━━━━━━━━━━━━━━━┳━━━━━━━━━━━━━━━━━━━━━━━━┳━━━━━━━━━━━━━━━┓\n",
       "┃<span style=\"font-weight: bold\"> Layer (type)                    </span>┃<span style=\"font-weight: bold\"> Output Shape           </span>┃<span style=\"font-weight: bold\">       Param # </span>┃\n",
       "┡━━━━━━━━━━━━━━━━━━━━━━━━━━━━━━━━━╇━━━━━━━━━━━━━━━━━━━━━━━━╇━━━━━━━━━━━━━━━┩\n",
       "│ dense (<span style=\"color: #0087ff; text-decoration-color: #0087ff\">Dense</span>)                   │ (<span style=\"color: #00d7ff; text-decoration-color: #00d7ff\">None</span>, <span style=\"color: #00af00; text-decoration-color: #00af00\">128</span>)            │       <span style=\"color: #00af00; text-decoration-color: #00af00\">100,480</span> │\n",
       "├─────────────────────────────────┼────────────────────────┼───────────────┤\n",
       "│ dense_1 (<span style=\"color: #0087ff; text-decoration-color: #0087ff\">Dense</span>)                 │ (<span style=\"color: #00d7ff; text-decoration-color: #00d7ff\">None</span>, <span style=\"color: #00af00; text-decoration-color: #00af00\">64</span>)             │         <span style=\"color: #00af00; text-decoration-color: #00af00\">8,256</span> │\n",
       "├─────────────────────────────────┼────────────────────────┼───────────────┤\n",
       "│ dense_2 (<span style=\"color: #0087ff; text-decoration-color: #0087ff\">Dense</span>)                 │ (<span style=\"color: #00d7ff; text-decoration-color: #00d7ff\">None</span>, <span style=\"color: #00af00; text-decoration-color: #00af00\">36</span>)             │         <span style=\"color: #00af00; text-decoration-color: #00af00\">2,340</span> │\n",
       "└─────────────────────────────────┴────────────────────────┴───────────────┘\n",
       "</pre>\n"
      ]
     },
     "metadata": {},
     "output_type": "display_data"
    },
    {
     "data": {
      "text/plain": [
       "\u001B[1m Total params: \u001B[0m\u001B[38;5;34m111,076\u001B[0m (433.89 KB)\n"
      ],
      "text/html": [
       "<pre style=\"white-space:pre;overflow-x:auto;line-height:normal;font-family:Menlo,'DejaVu Sans Mono',consolas,'Courier New',monospace\"><span style=\"font-weight: bold\"> Total params: </span><span style=\"color: #00af00; text-decoration-color: #00af00\">111,076</span> (433.89 KB)\n",
       "</pre>\n"
      ]
     },
     "metadata": {},
     "output_type": "display_data"
    },
    {
     "data": {
      "text/plain": [
       "\u001B[1m Trainable params: \u001B[0m\u001B[38;5;34m111,076\u001B[0m (433.89 KB)\n"
      ],
      "text/html": [
       "<pre style=\"white-space:pre;overflow-x:auto;line-height:normal;font-family:Menlo,'DejaVu Sans Mono',consolas,'Courier New',monospace\"><span style=\"font-weight: bold\"> Trainable params: </span><span style=\"color: #00af00; text-decoration-color: #00af00\">111,076</span> (433.89 KB)\n",
       "</pre>\n"
      ]
     },
     "metadata": {},
     "output_type": "display_data"
    },
    {
     "data": {
      "text/plain": [
       "\u001B[1m Non-trainable params: \u001B[0m\u001B[38;5;34m0\u001B[0m (0.00 B)\n"
      ],
      "text/html": [
       "<pre style=\"white-space:pre;overflow-x:auto;line-height:normal;font-family:Menlo,'DejaVu Sans Mono',consolas,'Courier New',monospace\"><span style=\"font-weight: bold\"> Non-trainable params: </span><span style=\"color: #00af00; text-decoration-color: #00af00\">0</span> (0.00 B)\n",
       "</pre>\n"
      ]
     },
     "metadata": {},
     "output_type": "display_data"
    },
    {
     "name": "stdout",
     "output_type": "stream",
     "text": [
      "None\n"
     ]
    }
   ],
   "execution_count": 9
  },
  {
   "metadata": {
    "ExecuteTime": {
     "end_time": "2024-07-11T23:45:15.698912Z",
     "start_time": "2024-07-11T23:42:53.461911Z"
    }
   },
   "cell_type": "code",
   "source": "model.fit(TrainingData, TrainingLabels, epochs = 10, validation_data=(TestData, TestLabels))",
   "id": "62da32d5e8b12d7d",
   "outputs": [
    {
     "name": "stdout",
     "output_type": "stream",
     "text": [
      "Epoch 1/10\n",
      "\u001B[1m11187/11187\u001B[0m \u001B[32m━━━━━━━━━━━━━━━━━━━━\u001B[0m\u001B[37m\u001B[0m \u001B[1m15s\u001B[0m 1ms/step - accuracy: 0.5023 - loss: 1.8001 - val_accuracy: 0.7519 - val_loss: 874.9393\n",
      "Epoch 2/10\n",
      "\u001B[1m11187/11187\u001B[0m \u001B[32m━━━━━━━━━━━━━━━━━━━━\u001B[0m\u001B[37m\u001B[0m \u001B[1m14s\u001B[0m 1ms/step - accuracy: 0.7925 - loss: 0.7455 - val_accuracy: 0.8119 - val_loss: 703.4177\n",
      "Epoch 3/10\n",
      "\u001B[1m11187/11187\u001B[0m \u001B[32m━━━━━━━━━━━━━━━━━━━━\u001B[0m\u001B[37m\u001B[0m \u001B[1m14s\u001B[0m 1ms/step - accuracy: 0.8483 - loss: 0.5533 - val_accuracy: 0.8417 - val_loss: 613.9858\n",
      "Epoch 4/10\n",
      "\u001B[1m11187/11187\u001B[0m \u001B[32m━━━━━━━━━━━━━━━━━━━━\u001B[0m\u001B[37m\u001B[0m \u001B[1m14s\u001B[0m 1ms/step - accuracy: 0.8783 - loss: 0.4426 - val_accuracy: 0.8612 - val_loss: 558.1204\n",
      "Epoch 5/10\n",
      "\u001B[1m11187/11187\u001B[0m \u001B[32m━━━━━━━━━━━━━━━━━━━━\u001B[0m\u001B[37m\u001B[0m \u001B[1m14s\u001B[0m 1ms/step - accuracy: 0.8984 - loss: 0.3684 - val_accuracy: 0.8713 - val_loss: 523.0523\n",
      "Epoch 6/10\n",
      "\u001B[1m11187/11187\u001B[0m \u001B[32m━━━━━━━━━━━━━━━━━━━━\u001B[0m\u001B[37m\u001B[0m \u001B[1m14s\u001B[0m 1ms/step - accuracy: 0.9104 - loss: 0.3236 - val_accuracy: 0.8749 - val_loss: 507.0629\n",
      "Epoch 7/10\n",
      "\u001B[1m11187/11187\u001B[0m \u001B[32m━━━━━━━━━━━━━━━━━━━━\u001B[0m\u001B[37m\u001B[0m \u001B[1m14s\u001B[0m 1ms/step - accuracy: 0.9190 - loss: 0.2922 - val_accuracy: 0.8661 - val_loss: 589.4415\n",
      "Epoch 8/10\n",
      "\u001B[1m11187/11187\u001B[0m \u001B[32m━━━━━━━━━━━━━━━━━━━━\u001B[0m\u001B[37m\u001B[0m \u001B[1m14s\u001B[0m 1ms/step - accuracy: 0.9265 - loss: 0.2656 - val_accuracy: 0.8643 - val_loss: 625.5754\n",
      "Epoch 9/10\n",
      "\u001B[1m11187/11187\u001B[0m \u001B[32m━━━━━━━━━━━━━━━━━━━━\u001B[0m\u001B[37m\u001B[0m \u001B[1m15s\u001B[0m 1ms/step - accuracy: 0.9325 - loss: 0.2464 - val_accuracy: 0.8649 - val_loss: 643.3466\n",
      "Epoch 10/10\n",
      "\u001B[1m11187/11187\u001B[0m \u001B[32m━━━━━━━━━━━━━━━━━━━━\u001B[0m\u001B[37m\u001B[0m \u001B[1m16s\u001B[0m 1ms/step - accuracy: 0.9355 - loss: 0.2323 - val_accuracy: 0.8599 - val_loss: 687.7526\n"
     ]
    },
    {
     "data": {
      "text/plain": [
       "<keras.src.callbacks.history.History at 0x2356450b7f0>"
      ]
     },
     "execution_count": 10,
     "metadata": {},
     "output_type": "execute_result"
    }
   ],
   "execution_count": 10
  },
  {
   "metadata": {
    "ExecuteTime": {
     "end_time": "2024-07-11T23:45:33.493418Z",
     "start_time": "2024-07-11T23:45:31.430419Z"
    }
   },
   "cell_type": "code",
   "source": [
    "MNloss, MNaccuracy = model.evaluate(MNx_test, MNy_test)\n",
    "AZloss, AZaccuracy = model.evaluate(AZx_test, AZy_test)\n",
    "\n",
    "print(f\"MNIST Test loss: {MNloss}. \\n MNIST Test accuracy: {MNaccuracy*100:.2f}\")\n",
    "\n",
    "print(f\"A_Z Test loss: {AZloss}. \\n A_Z Test accuracy: {AZaccuracy*100:.2f}\")"
   ],
   "id": "bad0fe9e5e833c98",
   "outputs": [
    {
     "name": "stdout",
     "output_type": "stream",
     "text": [
      "\u001B[1m313/313\u001B[0m \u001B[32m━━━━━━━━━━━━━━━━━━━━\u001B[0m\u001B[37m\u001B[0m \u001B[1m0s\u001B[0m 638us/step - accuracy: 0.8791 - loss: 0.3749\n",
      "\u001B[1m2328/2328\u001B[0m \u001B[32m━━━━━━━━━━━━━━━━━━━━\u001B[0m\u001B[37m\u001B[0m \u001B[1m2s\u001B[0m 663us/step - accuracy: 0.8573 - loss: 766.7335\n",
      "MNIST Test loss: 0.3674483299255371. \n",
      " MNIST Test accuracy: 88.04\n",
      "A_Z Test loss: 780.031005859375. \n",
      " A_Z Test accuracy: 85.72\n"
     ]
    }
   ],
   "execution_count": 12
  },
  {
   "metadata": {},
   "cell_type": "code",
   "outputs": [],
   "execution_count": null,
   "source": "",
   "id": "4dc985993854f75"
  }
 ],
 "metadata": {
  "kernelspec": {
   "display_name": "Python 3",
   "language": "python",
   "name": "python3"
  },
  "language_info": {
   "codemirror_mode": {
    "name": "ipython",
    "version": 2
   },
   "file_extension": ".py",
   "mimetype": "text/x-python",
   "name": "python",
   "nbconvert_exporter": "python",
   "pygments_lexer": "ipython2",
   "version": "2.7.6"
  }
 },
 "nbformat": 4,
 "nbformat_minor": 5
}
