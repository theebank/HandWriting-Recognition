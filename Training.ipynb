{
 "cells": [
  {
   "cell_type": "code",
   "id": "initial_id",
   "metadata": {
    "collapsed": true,
    "ExecuteTime": {
     "end_time": "2024-07-12T18:31:20.190403Z",
     "start_time": "2024-07-12T18:31:20.108688Z"
    }
   },
   "source": [
    "import os\n",
    "import cv2\n",
    "import keras\n",
    "import numpy as np\n",
    "import matplotlib.pyplot as plt\n",
    "import tensorflow as tf\n",
    "import pandas as pd\n",
    "from sklearn.model_selection import train_test_split\n",
    "from tensorflow.keras.optimizers import Adam\n",
    "from tensorflow.keras.losses import SparseCategoricalCrossentropy\n",
    "from tensorflow.keras.layers import InputLayer"
   ],
   "outputs": [],
   "execution_count": 21
  },
  {
   "metadata": {
    "ExecuteTime": {
     "end_time": "2024-07-12T18:00:09.034763Z",
     "start_time": "2024-07-12T18:00:08.819764Z"
    }
   },
   "cell_type": "code",
   "source": [
    "mnist = tf.keras.datasets.mnist\n",
    "\n",
    "(MNx_train, MNy_train), (MNx_test, MNy_test) = mnist.load_data()\n",
    "\n",
    "MNx_train = MNx_train.reshape(MNx_train.shape[0], -1)\n",
    "MNx_test = MNx_test.reshape(MNx_test.shape[0], -1)"
   ],
   "id": "9ca2000bde6da1fd",
   "outputs": [],
   "execution_count": 6
  },
  {
   "metadata": {},
   "cell_type": "markdown",
   "source": "Make sure to replace the following path with wherever you place the A_Z Handwritten data from https://www.kaggle.com/datasets/sachinpatel21/az-handwritten-alphabets-in-csv-format/data",
   "id": "d18c50e3e5953a4f"
  },
  {
   "metadata": {
    "ExecuteTime": {
     "end_time": "2024-07-12T18:00:21.206633Z",
     "start_time": "2024-07-12T18:00:09.035765Z"
    }
   },
   "cell_type": "code",
   "source": [
    "data = pd.read_csv('D:/Pycharm Projects/A_Z Handwritten Data/A_Z Handwritten Data.csv')\n",
    "\n",
    "data.columns = ['label'] + [f'pixel_{i}' for i in range(784)]\n",
    "x = data.drop('label', axis=1)\n",
    "y = data['label']\n",
    "\n",
    "AZx_train, AZx_test, AZy_train, AZy_test = train_test_split(x, y, test_size=0.2)"
   ],
   "id": "b9c33d0edd789e9c",
   "outputs": [],
   "execution_count": 7
  },
  {
   "metadata": {
    "ExecuteTime": {
     "end_time": "2024-07-12T18:00:21.300632Z",
     "start_time": "2024-07-12T18:00:21.207633Z"
    }
   },
   "cell_type": "code",
   "source": [
    "for x,y in AZy_train.items():\n",
    "    y += 10\n",
    "for _,y in AZy_test.items():\n",
    "    y += 10"
   ],
   "id": "89e756acf972a550",
   "outputs": [],
   "execution_count": 8
  },
  {
   "metadata": {
    "ExecuteTime": {
     "end_time": "2024-07-12T18:00:24.250942Z",
     "start_time": "2024-07-12T18:00:21.301633Z"
    }
   },
   "cell_type": "code",
   "source": [
    "MNx_train = tf.keras.utils.normalize(MNx_train, axis=1)\n",
    "MNx_test = tf.keras.utils.normalize(MNx_test, axis=1)\n",
    "\n",
    "AZx_train = tf.keras.utils.normalize(AZx_train, axis=1)\n",
    "AZX_test = tf.keras.utils.normalize(AZx_test, axis=1)"
   ],
   "id": "1b9ac50063038a90",
   "outputs": [],
   "execution_count": 9
  },
  {
   "metadata": {
    "ExecuteTime": {
     "end_time": "2024-07-12T18:00:24.732942Z",
     "start_time": "2024-07-12T18:00:24.253953Z"
    }
   },
   "cell_type": "code",
   "source": [
    "TrainingData = tf.concat([MNx_train, AZx_train], axis=0)\n",
    "TrainingLabels = tf.concat([MNy_train, AZy_train], axis=0)\n",
    "TestData = tf.concat([MNx_test, AZx_test], axis=0)\n",
    "TestLabels = tf.concat([MNy_test, AZy_test], axis=0)"
   ],
   "id": "bfac4ef7f24cacfc",
   "outputs": [],
   "execution_count": 10
  },
  {
   "metadata": {
    "ExecuteTime": {
     "end_time": "2024-07-12T18:34:57.845928Z",
     "start_time": "2024-07-12T18:34:57.807929Z"
    }
   },
   "cell_type": "code",
   "source": [
    "model = tf.keras.models.Sequential()\n",
    "model.add(tf.keras.layers.InputLayer(shape=(AZx_train.shape[1],)))\n",
    "    # model.add(tf.keras.layers.Flatten(input_shape=(28, 28)))\n",
    "model.add(tf.keras.layers.Dense(128, activation='relu'))\n",
    "model.add(tf.keras.layers.Dense(64, activation='relu'))\n",
    "model.add(tf.keras.layers.Dense(36, activation='softmax'))\n",
    "\n",
    "model.compile(optimizer=Adam(learning_rate = 0.0001), loss='sparse_categorical_crossentropy', metrics=['accuracy'])\n",
    "print(model.summary())"
   ],
   "id": "1c4dfea6e8ba5f5f",
   "outputs": [
    {
     "data": {
      "text/plain": [
       "\u001B[1mModel: \"sequential_3\"\u001B[0m\n"
      ],
      "text/html": [
       "<pre style=\"white-space:pre;overflow-x:auto;line-height:normal;font-family:Menlo,'DejaVu Sans Mono',consolas,'Courier New',monospace\"><span style=\"font-weight: bold\">Model: \"sequential_3\"</span>\n",
       "</pre>\n"
      ]
     },
     "metadata": {},
     "output_type": "display_data"
    },
    {
     "data": {
      "text/plain": [
       "┏━━━━━━━━━━━━━━━━━━━━━━━━━━━━━━━━━┳━━━━━━━━━━━━━━━━━━━━━━━━┳━━━━━━━━━━━━━━━┓\n",
       "┃\u001B[1m \u001B[0m\u001B[1mLayer (type)                   \u001B[0m\u001B[1m \u001B[0m┃\u001B[1m \u001B[0m\u001B[1mOutput Shape          \u001B[0m\u001B[1m \u001B[0m┃\u001B[1m \u001B[0m\u001B[1m      Param #\u001B[0m\u001B[1m \u001B[0m┃\n",
       "┡━━━━━━━━━━━━━━━━━━━━━━━━━━━━━━━━━╇━━━━━━━━━━━━━━━━━━━━━━━━╇━━━━━━━━━━━━━━━┩\n",
       "│ dense_9 (\u001B[38;5;33mDense\u001B[0m)                 │ (\u001B[38;5;45mNone\u001B[0m, \u001B[38;5;34m128\u001B[0m)            │       \u001B[38;5;34m100,480\u001B[0m │\n",
       "├─────────────────────────────────┼────────────────────────┼───────────────┤\n",
       "│ dense_10 (\u001B[38;5;33mDense\u001B[0m)                │ (\u001B[38;5;45mNone\u001B[0m, \u001B[38;5;34m64\u001B[0m)             │         \u001B[38;5;34m8,256\u001B[0m │\n",
       "├─────────────────────────────────┼────────────────────────┼───────────────┤\n",
       "│ dense_11 (\u001B[38;5;33mDense\u001B[0m)                │ (\u001B[38;5;45mNone\u001B[0m, \u001B[38;5;34m36\u001B[0m)             │         \u001B[38;5;34m2,340\u001B[0m │\n",
       "└─────────────────────────────────┴────────────────────────┴───────────────┘\n"
      ],
      "text/html": [
       "<pre style=\"white-space:pre;overflow-x:auto;line-height:normal;font-family:Menlo,'DejaVu Sans Mono',consolas,'Courier New',monospace\">┏━━━━━━━━━━━━━━━━━━━━━━━━━━━━━━━━━┳━━━━━━━━━━━━━━━━━━━━━━━━┳━━━━━━━━━━━━━━━┓\n",
       "┃<span style=\"font-weight: bold\"> Layer (type)                    </span>┃<span style=\"font-weight: bold\"> Output Shape           </span>┃<span style=\"font-weight: bold\">       Param # </span>┃\n",
       "┡━━━━━━━━━━━━━━━━━━━━━━━━━━━━━━━━━╇━━━━━━━━━━━━━━━━━━━━━━━━╇━━━━━━━━━━━━━━━┩\n",
       "│ dense_9 (<span style=\"color: #0087ff; text-decoration-color: #0087ff\">Dense</span>)                 │ (<span style=\"color: #00d7ff; text-decoration-color: #00d7ff\">None</span>, <span style=\"color: #00af00; text-decoration-color: #00af00\">128</span>)            │       <span style=\"color: #00af00; text-decoration-color: #00af00\">100,480</span> │\n",
       "├─────────────────────────────────┼────────────────────────┼───────────────┤\n",
       "│ dense_10 (<span style=\"color: #0087ff; text-decoration-color: #0087ff\">Dense</span>)                │ (<span style=\"color: #00d7ff; text-decoration-color: #00d7ff\">None</span>, <span style=\"color: #00af00; text-decoration-color: #00af00\">64</span>)             │         <span style=\"color: #00af00; text-decoration-color: #00af00\">8,256</span> │\n",
       "├─────────────────────────────────┼────────────────────────┼───────────────┤\n",
       "│ dense_11 (<span style=\"color: #0087ff; text-decoration-color: #0087ff\">Dense</span>)                │ (<span style=\"color: #00d7ff; text-decoration-color: #00d7ff\">None</span>, <span style=\"color: #00af00; text-decoration-color: #00af00\">36</span>)             │         <span style=\"color: #00af00; text-decoration-color: #00af00\">2,340</span> │\n",
       "└─────────────────────────────────┴────────────────────────┴───────────────┘\n",
       "</pre>\n"
      ]
     },
     "metadata": {},
     "output_type": "display_data"
    },
    {
     "data": {
      "text/plain": [
       "\u001B[1m Total params: \u001B[0m\u001B[38;5;34m111,076\u001B[0m (433.89 KB)\n"
      ],
      "text/html": [
       "<pre style=\"white-space:pre;overflow-x:auto;line-height:normal;font-family:Menlo,'DejaVu Sans Mono',consolas,'Courier New',monospace\"><span style=\"font-weight: bold\"> Total params: </span><span style=\"color: #00af00; text-decoration-color: #00af00\">111,076</span> (433.89 KB)\n",
       "</pre>\n"
      ]
     },
     "metadata": {},
     "output_type": "display_data"
    },
    {
     "data": {
      "text/plain": [
       "\u001B[1m Trainable params: \u001B[0m\u001B[38;5;34m111,076\u001B[0m (433.89 KB)\n"
      ],
      "text/html": [
       "<pre style=\"white-space:pre;overflow-x:auto;line-height:normal;font-family:Menlo,'DejaVu Sans Mono',consolas,'Courier New',monospace\"><span style=\"font-weight: bold\"> Trainable params: </span><span style=\"color: #00af00; text-decoration-color: #00af00\">111,076</span> (433.89 KB)\n",
       "</pre>\n"
      ]
     },
     "metadata": {},
     "output_type": "display_data"
    },
    {
     "data": {
      "text/plain": [
       "\u001B[1m Non-trainable params: \u001B[0m\u001B[38;5;34m0\u001B[0m (0.00 B)\n"
      ],
      "text/html": [
       "<pre style=\"white-space:pre;overflow-x:auto;line-height:normal;font-family:Menlo,'DejaVu Sans Mono',consolas,'Courier New',monospace\"><span style=\"font-weight: bold\"> Non-trainable params: </span><span style=\"color: #00af00; text-decoration-color: #00af00\">0</span> (0.00 B)\n",
       "</pre>\n"
      ]
     },
     "metadata": {},
     "output_type": "display_data"
    },
    {
     "name": "stdout",
     "output_type": "stream",
     "text": [
      "None\n"
     ]
    }
   ],
   "execution_count": 25
  },
  {
   "metadata": {
    "ExecuteTime": {
     "end_time": "2024-07-12T18:37:01.867536Z",
     "start_time": "2024-07-12T18:35:00.104750Z"
    }
   },
   "cell_type": "code",
   "source": "model.fit(TrainingData, TrainingLabels, epochs = 10, validation_data=(TestData, TestLabels))",
   "id": "62da32d5e8b12d7d",
   "outputs": [
    {
     "name": "stdout",
     "output_type": "stream",
     "text": [
      "Epoch 1/10\n",
      "\u001B[1m11187/11187\u001B[0m \u001B[32m━━━━━━━━━━━━━━━━━━━━\u001B[0m\u001B[37m\u001B[0m \u001B[1m13s\u001B[0m 1ms/step - accuracy: 0.5335 - loss: 1.7401 - val_accuracy: 0.7644 - val_loss: 822.5042\n",
      "Epoch 2/10\n",
      "\u001B[1m11187/11187\u001B[0m \u001B[32m━━━━━━━━━━━━━━━━━━━━\u001B[0m\u001B[37m\u001B[0m \u001B[1m12s\u001B[0m 1ms/step - accuracy: 0.8009 - loss: 0.7157 - val_accuracy: 0.8206 - val_loss: 670.5433\n",
      "Epoch 3/10\n",
      "\u001B[1m11187/11187\u001B[0m \u001B[32m━━━━━━━━━━━━━━━━━━━━\u001B[0m\u001B[37m\u001B[0m \u001B[1m12s\u001B[0m 1ms/step - accuracy: 0.8514 - loss: 0.5413 - val_accuracy: 0.8463 - val_loss: 602.2214\n",
      "Epoch 4/10\n",
      "\u001B[1m11187/11187\u001B[0m \u001B[32m━━━━━━━━━━━━━━━━━━━━\u001B[0m\u001B[37m\u001B[0m \u001B[1m12s\u001B[0m 1ms/step - accuracy: 0.8781 - loss: 0.4395 - val_accuracy: 0.8694 - val_loss: 504.8229\n",
      "Epoch 5/10\n",
      "\u001B[1m11187/11187\u001B[0m \u001B[32m━━━━━━━━━━━━━━━━━━━━\u001B[0m\u001B[37m\u001B[0m \u001B[1m12s\u001B[0m 1ms/step - accuracy: 0.8954 - loss: 0.3772 - val_accuracy: 0.8697 - val_loss: 527.0475\n",
      "Epoch 6/10\n",
      "\u001B[1m11187/11187\u001B[0m \u001B[32m━━━━━━━━━━━━━━━━━━━━\u001B[0m\u001B[37m\u001B[0m \u001B[1m12s\u001B[0m 1ms/step - accuracy: 0.9084 - loss: 0.3321 - val_accuracy: 0.8726 - val_loss: 521.5330\n",
      "Epoch 7/10\n",
      "\u001B[1m11187/11187\u001B[0m \u001B[32m━━━━━━━━━━━━━━━━━━━━\u001B[0m\u001B[37m\u001B[0m \u001B[1m12s\u001B[0m 1ms/step - accuracy: 0.9173 - loss: 0.3000 - val_accuracy: 0.8787 - val_loss: 505.4102\n",
      "Epoch 8/10\n",
      "\u001B[1m11187/11187\u001B[0m \u001B[32m━━━━━━━━━━━━━━━━━━━━\u001B[0m\u001B[37m\u001B[0m \u001B[1m12s\u001B[0m 1ms/step - accuracy: 0.9236 - loss: 0.2766 - val_accuracy: 0.8691 - val_loss: 572.6963\n",
      "Epoch 9/10\n",
      "\u001B[1m11187/11187\u001B[0m \u001B[32m━━━━━━━━━━━━━━━━━━━━\u001B[0m\u001B[37m\u001B[0m \u001B[1m12s\u001B[0m 1ms/step - accuracy: 0.9304 - loss: 0.2536 - val_accuracy: 0.8687 - val_loss: 581.4994\n",
      "Epoch 10/10\n",
      "\u001B[1m11187/11187\u001B[0m \u001B[32m━━━━━━━━━━━━━━━━━━━━\u001B[0m\u001B[37m\u001B[0m \u001B[1m12s\u001B[0m 1ms/step - accuracy: 0.9342 - loss: 0.2390 - val_accuracy: 0.8676 - val_loss: 611.7565\n"
     ]
    },
    {
     "data": {
      "text/plain": [
       "<keras.src.callbacks.history.History at 0x13503330850>"
      ]
     },
     "execution_count": 26,
     "metadata": {},
     "output_type": "execute_result"
    }
   ],
   "execution_count": 26
  },
  {
   "metadata": {
    "ExecuteTime": {
     "end_time": "2024-07-12T18:37:48.579057Z",
     "start_time": "2024-07-12T18:37:46.613059Z"
    }
   },
   "cell_type": "code",
   "source": [
    "MNloss, MNaccuracy = model.evaluate(MNx_test, MNy_test)\n",
    "AZloss, AZaccuracy = model.evaluate(AZx_test, AZy_test)\n",
    "\n",
    "print(f\"MNIST Test loss: {MNloss}. \\n MNIST Test accuracy: {MNaccuracy*100:.2f}\")\n",
    "\n",
    "print(f\"A_Z Test loss: {AZloss}. \\n A_Z Test accuracy: {AZaccuracy*100:.2f}\")"
   ],
   "id": "bad0fe9e5e833c98",
   "outputs": [
    {
     "name": "stdout",
     "output_type": "stream",
     "text": [
      "\u001B[1m313/313\u001B[0m \u001B[32m━━━━━━━━━━━━━━━━━━━━\u001B[0m\u001B[37m\u001B[0m \u001B[1m0s\u001B[0m 574us/step - accuracy: 0.8792 - loss: 0.3919\n",
      "\u001B[1m2328/2328\u001B[0m \u001B[32m━━━━━━━━━━━━━━━━━━━━\u001B[0m\u001B[37m\u001B[0m \u001B[1m2s\u001B[0m 641us/step - accuracy: 0.8655 - loss: 686.1584\n",
      "MNIST Test loss: 0.3875495493412018. \n",
      " MNIST Test accuracy: 88.07\n",
      "A_Z Test loss: 693.829833984375. \n",
      " A_Z Test accuracy: 86.59\n"
     ]
    }
   ],
   "execution_count": 27
  },
  {
   "metadata": {
    "ExecuteTime": {
     "end_time": "2024-07-12T18:40:35.987946Z",
     "start_time": "2024-07-12T18:40:35.417891Z"
    }
   },
   "cell_type": "code",
   "source": [
    "image_number = 0\n",
    "while os.path.isfile(f\"D:\\Pycharm Projects\\digits\\digit{image_number}.png\"):\n",
    "    img = cv2.imread(f\"D:\\Pycharm Projects\\digits\\digit{image_number}.png\")[:, :, 0]\n",
    "    img = np.invert(np.array([img]))\n",
    "    img = np.reshape(img, (1,784))\n",
    "    prediction = model.predict(img)\n",
    "    print(f\"The Image number {image_number} is probably {np.argmax(prediction)}\")\n",
    "    image_number += 1\n",
    "    "
   ],
   "id": "4dc985993854f75",
   "outputs": [
    {
     "name": "stdout",
     "output_type": "stream",
     "text": [
      "\u001B[1m1/1\u001B[0m \u001B[32m━━━━━━━━━━━━━━━━━━━━\u001B[0m\u001B[37m\u001B[0m \u001B[1m0s\u001B[0m 13ms/step\n",
      "The Image number 0 is probably 6\n",
      "\u001B[1m1/1\u001B[0m \u001B[32m━━━━━━━━━━━━━━━━━━━━\u001B[0m\u001B[37m\u001B[0m \u001B[1m0s\u001B[0m 14ms/step\n",
      "The Image number 1 is probably 2\n",
      "\u001B[1m1/1\u001B[0m \u001B[32m━━━━━━━━━━━━━━━━━━━━\u001B[0m\u001B[37m\u001B[0m \u001B[1m0s\u001B[0m 13ms/step\n",
      "The Image number 2 is probably 2\n",
      "\u001B[1m1/1\u001B[0m \u001B[32m━━━━━━━━━━━━━━━━━━━━\u001B[0m\u001B[37m\u001B[0m \u001B[1m0s\u001B[0m 13ms/step\n",
      "The Image number 3 is probably 18\n",
      "\u001B[1m1/1\u001B[0m \u001B[32m━━━━━━━━━━━━━━━━━━━━\u001B[0m\u001B[37m\u001B[0m \u001B[1m0s\u001B[0m 13ms/step\n",
      "The Image number 4 is probably 4\n",
      "\u001B[1m1/1\u001B[0m \u001B[32m━━━━━━━━━━━━━━━━━━━━\u001B[0m\u001B[37m\u001B[0m \u001B[1m0s\u001B[0m 13ms/step\n",
      "The Image number 5 is probably 4\n",
      "\u001B[1m1/1\u001B[0m \u001B[32m━━━━━━━━━━━━━━━━━━━━\u001B[0m\u001B[37m\u001B[0m \u001B[1m0s\u001B[0m 13ms/step\n",
      "The Image number 6 is probably 4\n",
      "\u001B[1m1/1\u001B[0m \u001B[32m━━━━━━━━━━━━━━━━━━━━\u001B[0m\u001B[37m\u001B[0m \u001B[1m0s\u001B[0m 13ms/step\n",
      "The Image number 7 is probably 19\n",
      "\u001B[1m1/1\u001B[0m \u001B[32m━━━━━━━━━━━━━━━━━━━━\u001B[0m\u001B[37m\u001B[0m \u001B[1m0s\u001B[0m 14ms/step\n",
      "The Image number 8 is probably 19\n",
      "\u001B[1m1/1\u001B[0m \u001B[32m━━━━━━━━━━━━━━━━━━━━\u001B[0m\u001B[37m\u001B[0m \u001B[1m0s\u001B[0m 14ms/step\n",
      "The Image number 9 is probably 17\n",
      "\u001B[1m1/1\u001B[0m \u001B[32m━━━━━━━━━━━━━━━━━━━━\u001B[0m\u001B[37m\u001B[0m \u001B[1m0s\u001B[0m 13ms/step\n",
      "The Image number 10 is probably 24\n",
      "\u001B[1m1/1\u001B[0m \u001B[32m━━━━━━━━━━━━━━━━━━━━\u001B[0m\u001B[37m\u001B[0m \u001B[1m0s\u001B[0m 13ms/step\n",
      "The Image number 11 is probably 19\n",
      "\u001B[1m1/1\u001B[0m \u001B[32m━━━━━━━━━━━━━━━━━━━━\u001B[0m\u001B[37m\u001B[0m \u001B[1m0s\u001B[0m 13ms/step\n",
      "The Image number 12 is probably 0\n",
      "\u001B[1m1/1\u001B[0m \u001B[32m━━━━━━━━━━━━━━━━━━━━\u001B[0m\u001B[37m\u001B[0m \u001B[1m0s\u001B[0m 13ms/step\n",
      "The Image number 13 is probably 2\n"
     ]
    }
   ],
   "execution_count": 32
  }
 ],
 "metadata": {
  "kernelspec": {
   "display_name": "Python 3",
   "language": "python",
   "name": "python3"
  },
  "language_info": {
   "codemirror_mode": {
    "name": "ipython",
    "version": 2
   },
   "file_extension": ".py",
   "mimetype": "text/x-python",
   "name": "python",
   "nbconvert_exporter": "python",
   "pygments_lexer": "ipython2",
   "version": "2.7.6"
  }
 },
 "nbformat": 4,
 "nbformat_minor": 5
}
